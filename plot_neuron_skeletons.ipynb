{
 "cells": [
  {
   "cell_type": "markdown",
   "metadata": {},
   "source": [
    "# Plotting the skeletons of certain neurons including selected neuropils\n",
    "Here, neuron skeletons and neuropils are downloaded from the MANC connectome dataset. The neurons are plotted in three-dimensional plots which are saved to html files with plotly. \n",
    "The notebook requires the MANC dataset, which is imported as two hdf5 datasets. They can be created using the functions `fetch_all_connections()` and `fetch_all_neuron_props()` form my connectome_fun module. Further, a neuprint token is required. It should be stored in a text file at './accessory_files/neuprint_token.txt'. <br>\n",
    "Note: This notebook was run with python 3.9.18 and navis 1.5.0. \n",
    "\n",
    "Autor: Bjarne Schultze <br>\n",
    "Last modified: 29.11.2024"
   ]
  },
  {
   "cell_type": "code",
   "execution_count": null,
   "metadata": {},
   "outputs": [],
   "source": [
    "import pandas as pd\n",
    "import navis\n",
    "import navis.interfaces.neuprint as neu\n",
    "import plotly\n",
    "from matplotlib.colors import to_rgba\n",
    "\n",
    "\n",
    "# Save authentication token and create neuPrint+ client\n",
    "with open(\"./accessory_files/neuprint_token.txt\") as f:\n",
    "    auth_token = f.readlines()[0]\n",
    "# Create MANC neuprint client\n",
    "neu_cl = neu.Client('neuprint.janelia.org', dataset='manc:v1.2.1', token=auth_token)"
   ]
  },
  {
   "cell_type": "code",
   "execution_count": 2,
   "metadata": {},
   "outputs": [],
   "source": [
    "# Load the connections and neuron information\n",
    "connections = pd.read_hdf('../additional_files/manc_1.2.1_connections.h5')\n",
    "neuron_info = pd.read_hdf('../additional_files/manc_1.2.1_neurons.h5')\n",
    "\n",
    "# Re-name AN08B031 to vPR13 (IDs checked to ensure same neurons in old and new MANC version)\n",
    "connections.replace(\"AN08B031\", \"vPR13\", inplace=True)\n",
    "neuron_info.replace(\"AN08B031\", \"vPR13\", inplace=True)\n",
    "\n",
    "# Create ID and type dicts\n",
    "neuron_dict = {}\n",
    "# Iterate over the neuron types\n",
    "for ntype in neuron_info['type'].unique():\n",
    "    # Get the bodyIDs for all neurons of the same type\n",
    "    bodyIds = neuron_info.loc[neuron_info['type']==ntype, 'bodyId'].to_numpy()\n",
    "    # Assign the bodyIDs to the neuron type in the dict\n",
    "    neuron_dict[ntype] = bodyIds\n",
    "\n",
    "# Get IDs of vMS12 neurons\n",
    "vms12_ids = neuron_dict[\"vMS12\"]"
   ]
  },
  {
   "cell_type": "code",
   "execution_count": null,
   "metadata": {},
   "outputs": [
    {
     "name": "stderr",
     "output_type": "stream",
     "text": [
      "c:\\Users\\schul\\anaconda3\\envs\\rms_analysis\\lib\\site-packages\\python_jsonschema_objects\\__init__.py:113: UserWarning: Schema id not specified. Defaulting to 'self'\n",
      "  warnings.warn(\"Schema id not specified. Defaulting to 'self'\")\n",
      "c:\\Users\\schul\\anaconda3\\envs\\rms_analysis\\lib\\site-packages\\neuprint\\client.py:609: FutureWarning: Series.__getitem__ treating keys as positions is deprecated. In a future version, integer keys will always be treated as labels (consistent with DataFrame behavior). To access a value by position, use `ser.iloc[pos]`\n",
      "  neuron_props_val = df_results.iloc[0][0]\n",
      "c:\\Users\\schul\\anaconda3\\envs\\rms_analysis\\lib\\site-packages\\neuprint\\client.py:619: FutureWarning: Series.__getitem__ treating keys as positions is deprecated. In a future version, integer keys will always be treated as labels (consistent with DataFrame behavior). To access a value by position, use `ser.iloc[pos]`\n",
      "  neuron_props_val = df_results.iloc[0][0]\n"
     ]
    },
    {
     "data": {
      "application/vnd.jupyter.widget-view+json": {
       "model_id": "1a1d6ecb9863494ca0fb858b1bf1d4fd",
       "version_major": 2,
       "version_minor": 0
      },
      "text/plain": [
       "Fetching:   0%|          | 0/20 [00:00<?, ?it/s]"
      ]
     },
     "metadata": {},
     "output_type": "display_data"
    }
   ],
   "source": [
    "# Fetch ROIs\n",
    "neuropils = [neu.fetch_roi(roi) for roi in [\"WTct(UTct-T2)(L)\", \"WTct(UTct-T2)(R)\"]] # , \"IntTct\", \"LTct\", \"HTct(UTct-T3)(L)\", \"HTct(UTct-T3)(R)\"]]\n",
    "# Fetch neurons\n",
    "vms12_meshes = neu.fetch_mesh_neuron(vms12_ids, lod=2, use_https=True)\n",
    "\n",
    "# Store the body IDs \n",
    "vMS12_systype_in12a023 = [13518, 14183, 14534, 16920, 23069, 101397, 14126, 15364, 15875, 16317]\n",
    "vMS12_systype_in12a014 = [12887, 12905, 13240, 13855]\n",
    "vMS12_systype_in12a040 = [16889, 17931, 18452, 19042, 21441, 32714]\n",
    "ipsilat = [13518, 14183, 14534, 16920, 23069, 101397]\n",
    "\n",
    "# Sort the meshes in those of ipsilateral neurons and the others\n",
    "ipsilat_meshes = []\n",
    "other_meshes = []\n",
    "\n",
    "for nmesh in vms12_meshes:\n",
    "    # Modify name for the legend entry\n",
    "    nmesh.name = f\"{nmesh.name.split('_')[0]}\"\n",
    "    # Sort \n",
    "    if nmesh.id in ipsilat:\n",
    "        ipsilat_meshes.append(nmesh)\n",
    "    else:\n",
    "        other_meshes.append(nmesh)"
   ]
  },
  {
   "cell_type": "code",
   "execution_count": null,
   "metadata": {},
   "outputs": [
    {
     "name": "stderr",
     "output_type": "stream",
     "text": [
      "INFO  : Use the `.show()` method to plot the figure. (navis)\n"
     ]
    }
   ],
   "source": [
    "# Define colors for the ROIs (with transparency)\n",
    "alpha = 0.2\n",
    "roi_colors = [(0.1,0.9,0.8,alpha), (0.3,0.2,0.9,alpha)] # , (0.9,0.4,0.2,alpha), (0.9,0.8,0.2,alpha), (0.8,0.2,0.9,alpha), (0.3,0.7,0.1,alpha)]\n",
    "# Define a set of colors\n",
    "colorlist = ['firebrick','darkturquoise','limegreen','royalblue','hotpink','lightskyblue','gold','purple','slategray','tomato','yellowgreen','plum','gray',\n",
    "                'deepskyblue','aqua','darkorchid','darkblue','olivedrab','wheat','lightcyan','seagreen','bisque']\n",
    "mesh_colors = [ to_rgba(col) for col in colorlist[:len(vms12_meshes)] ]\n",
    "mesh_colors.extend(roi_colors)\n",
    "\n",
    "\n",
    "# Plot the neurons\n",
    "fig3d = navis.plot3d([vms12_meshes, neuropils], color=mesh_colors, width=1000, height=700, inline=False)\n",
    "\n",
    "# Save the plot as a html file \n",
    "_ = plotly.offline.plot(fig3d, filename='../figures_wip/vms12_neurons.html')"
   ]
  },
  {
   "cell_type": "code",
   "execution_count": null,
   "metadata": {},
   "outputs": [
    {
     "name": "stderr",
     "output_type": "stream",
     "text": [
      "INFO  : Use the `.show()` method to plot the figure. (navis)\n"
     ]
    }
   ],
   "source": [
    "# Define colors for the ROIs (with transparency)\n",
    "alpha = 0.2\n",
    "roi_colors = [(0.9,0.7,0.7,alpha), (0.7,0.7,0.9,alpha)] # , (0.9,0.4,0.2,alpha), (0.9,0.8,0.2,alpha), (0.8,0.2,0.9,alpha), (0.3,0.7,0.1,alpha)]\n",
    "# Define a set of colors\n",
    "colorlist = ['firebrick','darkturquoise','limegreen','royalblue','hotpink','darkorchid','gold','purple','slategray','tomato','yellowgreen','plum','gray',\n",
    "                'deepskyblue','aqua','darkorchid','darkblue','olivedrab','wheat','lightcyan','seagreen','bisque']\n",
    "mesh_colors = [ to_rgba(col) for col in colorlist[:len(ipsilat_meshes)] ]\n",
    "mesh_colors.extend(roi_colors)\n",
    "\n",
    "\n",
    "# Plot the neurons\n",
    "fig3d = navis.plot3d([ipsilat_meshes, neuropils], color=mesh_colors, width=1200, height=800, inline=False)\n",
    "\n",
    "fig3d.update_layout(\n",
    "    scene = dict(\n",
    "        xaxis = dict(visible=False),\n",
    "        yaxis = dict(visible=False),\n",
    "        zaxis =dict(visible=False)\n",
    "        )\n",
    ")\n",
    "\n",
    "# Save the plot as a html file \n",
    "_ = plotly.offline.plot(fig3d, filename='../figures_wip/vms12_ipsilat.html')"
   ]
  },
  {
   "cell_type": "code",
   "execution_count": 50,
   "metadata": {},
   "outputs": [
    {
     "name": "stderr",
     "output_type": "stream",
     "text": [
      "INFO  : Use the `.show()` method to plot the figure. (navis)\n"
     ]
    }
   ],
   "source": [
    "# Define colors for the ROIs (with transparency)\n",
    "alpha = 0.2\n",
    "roi_colors = [(0.9,0.7,0.7,alpha), (0.7,0.7,0.9,alpha)] # , (0.9,0.4,0.2,alpha), (0.9,0.8,0.2,alpha), (0.8,0.2,0.9,alpha), (0.3,0.7,0.1,alpha)]\n",
    "# Define a set of colors\n",
    "colorlist = ['firebrick','darkturquoise','limegreen','royalblue','hotpink','darkorchid','gold','purple','slategray','tomato','yellowgreen','plum','gray',\n",
    "                'deepskyblue','aqua','darkorchid','darkblue','olivedrab','wheat','lightcyan','seagreen','bisque']\n",
    "mesh_colors = [ to_rgba(col) for col in colorlist[:len(other_meshes)] ]\n",
    "mesh_colors.extend(roi_colors)\n",
    "\n",
    "\n",
    "# Plot the neurons\n",
    "fig3d = navis.plot3d([other_meshes, neuropils], color=mesh_colors, width=1200, height=800, inline=False)\n",
    "\n",
    "fig3d.update_layout(\n",
    "    scene = dict(\n",
    "        xaxis = dict(visible=False),\n",
    "        yaxis = dict(visible=False),\n",
    "        zaxis =dict(visible=False)\n",
    "        )\n",
    ")\n",
    "\n",
    "# Save the plot as a html file \n",
    "_ = plotly.offline.plot(fig3d, filename='../figures_wip/vms12_bilat.html')"
   ]
  },
  {
   "cell_type": "code",
   "execution_count": 4,
   "metadata": {},
   "outputs": [],
   "source": [
    "# Fetch leg neuropils\n",
    "legneuropils = [neu.fetch_roi(roi) for roi in [\"LegNp(T1)(L)\", \"LegNp(T1)(R)\", \"LegNp(T2)(L)\", \"LegNp(T2)(R)\", \"LegNp(T3)(L)\", \"LegNp(T3)(R)\"]]"
   ]
  },
  {
   "cell_type": "code",
   "execution_count": 11,
   "metadata": {},
   "outputs": [
    {
     "name": "stderr",
     "output_type": "stream",
     "text": [
      "INFO  : Use the `.show()` method to plot the figure. (navis)\n"
     ]
    }
   ],
   "source": [
    "# Create a list of colors\n",
    "alpha = 0.2\n",
    "mesh_colors2 = [ to_rgba(\"firebrick\") for n in vms12_meshes ]\n",
    "mesh_colors2.extend([ (0.9,0.9,0.9,alpha) for n in legneuropils ])\n",
    "mesh_colors2.extend([(0.9,0.7,0.7,alpha), (0.7,0.7,0.9,alpha)])\n",
    "\n",
    "# Plot the neurons\n",
    "fig3d = navis.plot3d([vms12_meshes, legneuropils, neuropils], color=mesh_colors2, width=1200, height=800, inline=False)\n",
    "\n",
    "fig3d.update_layout(\n",
    "    scene = dict(\n",
    "        xaxis = dict(visible=False),\n",
    "        yaxis = dict(visible=False),\n",
    "        zaxis = dict(visible=False)\n",
    "        )\n",
    ")\n",
    "\n",
    "# Save the plot as a html file \n",
    "_ = plotly.offline.plot(fig3d, filename='../figures_wip/vms12_all.html')"
   ]
  }
 ],
 "metadata": {
  "kernelspec": {
   "display_name": "rms_analysis",
   "language": "python",
   "name": "python3"
  },
  "language_info": {
   "codemirror_mode": {
    "name": "ipython",
    "version": 3
   },
   "file_extension": ".py",
   "mimetype": "text/x-python",
   "name": "python",
   "nbconvert_exporter": "python",
   "pygments_lexer": "ipython3",
   "version": "3.9.18"
  }
 },
 "nbformat": 4,
 "nbformat_minor": 2
}
