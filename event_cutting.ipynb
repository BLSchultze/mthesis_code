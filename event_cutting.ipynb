{
 "cells": [
  {
   "cell_type": "markdown",
   "metadata": {},
   "source": [
    "# Collect pulse and vibration shapes for averaging and plotting\n",
    "\n",
    "Author: Bjarne Schultze <br>\n",
    "Last modified: 29.11.2024"
   ]
  },
  {
   "cell_type": "code",
   "execution_count": null,
   "metadata": {},
   "outputs": [],
   "source": [
    "import numpy as np\n",
    "import pandas as pd\n",
    "import matplotlib.pyplot as plt\n",
    "from matplotlib.colors import to_rgb\n",
    "\n",
    "\n",
    "import modules.analysis_utils as utils\n",
    "import modules.data_handling_utils as dutils\n",
    "import modules.plotting_utils as myplt\n",
    "plt.style.use('./plotstyle_bjarne.mplstyle')"
   ]
  },
  {
   "cell_type": "code",
   "execution_count": 2,
   "metadata": {},
   "outputs": [],
   "source": [
    "# Define colors\n",
    "vib_col = to_rgb(\"#04A83D\")   # '#46A81F'\n",
    "pulse_col = to_rgb(\"#ff0000\")  # '#5D11AD' \n",
    "sine_col = to_rgb(\"#2d7cff\")  # '#F07236' \n",
    "sine_col_light = to_rgb(\"#78CEFF\")\n",
    "pulse_col_light = to_rgb(\"#FF776F\")\n",
    "vib_col_light = to_rgb(\"#7DD189\")"
   ]
  },
  {
   "cell_type": "code",
   "execution_count": 3,
   "metadata": {},
   "outputs": [],
   "source": [
    "# Choose an experimental group\n",
    "exp_grp = \"TN1A\" \n",
    "\n",
    "# Create a dictionary mapping experimental group and genotype in the meta data table\n",
    "genotype_dict = {\"pIP10\": \"CsChrimson; VT40556\", \"TN1A\": \"TN1A_CsChrimson\", \"vPR13\": \"vPR13_CsChrimson\", \n",
    "                 \"vMS12-SS3\": \"vMS12-SS3_CsChrimson\", \"CsChrimson_ctrl\": \"CsChrimson\", \"vPR13_ctrl\": \"vPR13\"}\n",
    "\n",
    "# Set the main result path\n",
    "main_path = \"E:/res/\"\n",
    "# Set the path to the metadata file\n",
    "metadata_path = \"E:/MT/additional_files/metadata.pkl\"\n",
    "\n",
    "# Load metadata file (first five files with different protocol are missing)\n",
    "metadata = pd.read_pickle(metadata_path)\n",
    "\n",
    "# Extract the experiment names for the current neuron type\n",
    "exp = metadata.loc[metadata[\"genotype\"] == genotype_dict[exp_grp], :]\n",
    "experiments = exp.loc[exp[\"individuals.1\"].isna(), \"filename\"].to_list()\n",
    "experiments_mf = exp.loc[exp[\"individuals.1\"] == \"1\", \"filename\"].to_list()"
   ]
  },
  {
   "cell_type": "code",
   "execution_count": 4,
   "metadata": {},
   "outputs": [
    {
     "name": "stdout",
     "output_type": "stream",
     "text": [
      "Skipped experiment localhost-20240325_085619! Incomplete stimulus set before copulation.\n",
      "Skipped experiment localhost-20240325_093502! Incomplete stimulus set before copulation.\n"
     ]
    }
   ],
   "source": [
    "# Load the annotations for the male-female and solitary condition\n",
    "annotations_mf, stim_ons_mf, stim_offs_mf, stim_volts_mf, bad_files = dutils.load_annotations(experiments_mf, main_path=main_path, metadata_path=metadata_path)\n",
    "annotations, stim_ons, stim_offs, stim_volts, _ = dutils.load_annotations(experiments, main_path=main_path, metadata_path=metadata_path)\n",
    "\n",
    "# Remove bad files from experiment list\n",
    "if len(bad_files) > 0:\n",
    "    [ experiments_mf.remove(bf) for bf in bad_files ]\n",
    "\n",
    "# Calculate the stimulus length\n",
    "stim_len = stim_offs[0][0] - stim_ons[0][0]\n",
    "\n",
    "# Extract the sampling rate\n",
    "sampling_rate = metadata[\"sampling_rate\"][5]"
   ]
  },
  {
   "cell_type": "code",
   "execution_count": null,
   "metadata": {},
   "outputs": [
    {
     "name": "stdout",
     "output_type": "stream",
     "text": [
      "Loading file: E:/dat/localhost-20240315_101006/localhost-20240315_101006_daq.h5\n",
      "Filtering channels 0 to 15\n",
      "Loading file: E:/dat/localhost-20240318_093453/localhost-20240318_093453_daq.h5\n",
      "Filtering channels 0 to 15\n",
      "Loading file: E:/dat/localhost-20240419_092409/localhost-20240419_092409_daq.h5\n",
      "Filtering channels 0 to 15\n",
      "Loading file: E:/dat/localhost-20240419_095625/localhost-20240419_095625_daq.h5\n",
      "Filtering channels 0 to 15\n",
      "Loading file: E:/dat/localhost-20240527_084245/localhost-20240527_084245_daq.h5\n",
      "Filtering channels 0 to 15\n",
      "Loading file: E:/dat/localhost-20240527_091508/localhost-20240527_091508_daq.h5\n",
      "Filtering channels 0 to 15\n",
      "Loading file: E:/dat/localhost-20240527_094737/localhost-20240527_094737_daq.h5\n",
      "Filtering channels 0 to 15\n",
      "Loading file: E:/dat/localhost-20240527_101953/localhost-20240527_101953_daq.h5\n",
      "Filtering channels 0 to 15\n"
     ]
    }
   ],
   "source": [
    "# Lists to store the cutouts\n",
    "all_vib_sections = []\n",
    "all_pulse_sections = []\n",
    "\n",
    "# Iterate over the experiments and corresponding annotations\n",
    "for file, ann in zip(experiments_mf, annotations_mf):\n",
    "    # Load data + bandpass filter song\n",
    "    filepath = f\"E:/dat/{file}/{file}_daq.h5\"\n",
    "    dataset, sampling_r = dutils.load_dataset(filepath, filter=True)\n",
    "\n",
    "    # Make cutouts of all pulses\n",
    "    p_times = ann.loc[ann['name']=='pulse_manual','start_seconds'].to_numpy()\n",
    "    p_sections_norm, section_time = utils.cut_events(dataset, p_times, norm=True)\n",
    "    # Make cutouts of all vibrations\n",
    "    vib_times = ann.loc[ann['name']=='vibration_manual','start_seconds'].to_numpy()\n",
    "    vib_sections_norm, section_time_v = utils.cut_events(dataset, vib_times, norm=True)\n",
    "    # Store the cutouts\n",
    "    all_vib_sections.append(p_sections_norm)\n",
    "    all_pulse_sections.append(vib_sections_norm)"
   ]
  },
  {
   "cell_type": "code",
   "execution_count": 27,
   "metadata": {},
   "outputs": [],
   "source": [
    "# Stack pulse and vibration cutouts \n",
    "all_pulse_sections_a = np.vstack(all_pulse_sections)\n",
    "all_vib_sections_a = np.vstack(all_vib_sections)\n",
    "\n",
    "# Average over all cutouts\n",
    "avg_pshape = np.mean(all_pulse_sections_a, axis=0)\n",
    "avg_vibshape = np.mean(all_vib_sections_a, axis=0)\n",
    "# Standard deviation over all cutouts\n",
    "std_pshape = np.std(all_pulse_sections_a, axis=0)\n",
    "std_vibshape = np.std(all_vib_sections_a, axis=0)"
   ]
  },
  {
   "cell_type": "code",
   "execution_count": 44,
   "metadata": {},
   "outputs": [
    {
     "data": {
      "image/png": "[encoded data removed]",
      "text/plain": [
       "<Figure size 400x250 with 1 Axes>"
      ]
     },
     "metadata": {
      "needs_background": "light"
     },
     "output_type": "display_data"
    }
   ],
   "source": [
    "# New figure\n",
    "fig, ax = plt.subplots(1, 1, figsize=(4,2.5))\n",
    "\n",
    "# Plot average pulse and vibration shapes\n",
    "ax.plot(section_time, avg_pshape, label=f'Pulse\\n(n = {all_pulse_sections_a.shape[0]})', color=pulse_col)\n",
    "ax.plot(section_time_v, avg_vibshape, label=f'Vibration\\n(n = {all_vib_sections_a.shape[0]})', color=vib_col)\n",
    "\n",
    "# Adjust x axis, add legend\n",
    "ax.set_xlim((-6.5, 6.5))\n",
    "myplt.axis_to_scale(ax, \"ms\", 1, txt_offset=0.05, linewidth=3)\n",
    "ax.legend()\n",
    "\n",
    "# Adjust y axis\n",
    "ax.set_ylabel('normalized amplitude')\n",
    "ax.set_yticks([0,0.5,1])\n",
    "\n",
    "# Save figure\n",
    "fig.savefig(\"../figures_wip/pulse_vib_example.pdf\")"
   ]
  }
 ],
 "metadata": {
  "kernelspec": {
   "display_name": "datanalysis",
   "language": "python",
   "name": "python3"
  },
  "language_info": {
   "codemirror_mode": {
    "name": "ipython",
    "version": 3
   },
   "file_extension": ".py",
   "mimetype": "text/x-python",
   "name": "python",
   "nbconvert_exporter": "python",
   "pygments_lexer": "ipython3",
   "version": "3.12.3"
  }
 },
 "nbformat": 4,
 "nbformat_minor": 2
}
