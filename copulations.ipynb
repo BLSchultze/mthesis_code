{
 "cells": [
  {
   "cell_type": "markdown",
   "metadata": {},
   "source": [
    "# Analysis of the copulation events\n",
    "Here, the copulation latency and the fraction of copulating pairs is analyzed.\n",
    "\n",
    "Author: Bjarne Schultze <br>\n",
    "Last modified: 29.11.2024"
   ]
  },
  {
   "cell_type": "code",
   "execution_count": null,
   "metadata": {},
   "outputs": [],
   "source": [
    "import numpy as np\n",
    "import pandas as pd\n",
    "import matplotlib.pyplot as plt\n",
    "from matplotlib.colors import ListedColormap, to_rgb\n",
    "\n",
    "import modules.plotting_utils as myplt\n",
    "import modules.data_handling_utils as dutils\n",
    "\n",
    "plt.style.use('./plotstyle_bjarne.mplstyle')"
   ]
  },
  {
   "cell_type": "code",
   "execution_count": null,
   "metadata": {},
   "outputs": [],
   "source": [
    "main_path = \"E:/res/\"\n",
    "metadata_path = \"./accessory_files/metadata.pkl\"\n",
    "\n",
    "# Define colors\n",
    "vib_col = to_rgb(\"#46A81F\")   # '#46A81F'\n",
    "pulse_col = to_rgb(\"#ff0000\")  # '#5D11AD' \n",
    "sine_col = to_rgb(\"#2d7cff\")  # '#F07236'  \n",
    "cmap = ListedColormap([np.array([1.0,1.0,1.0]),sine_col,pulse_col,vib_col])\n",
    "\n",
    "# Load metadata file (first five files with different protocol are missing)\n",
    "metadata = pd.read_pickle(metadata_path)"
   ]
  },
  {
   "cell_type": "code",
   "execution_count": null,
   "metadata": {},
   "outputs": [],
   "source": [
    "cop_ratios = []\n",
    "cop_times = []\n",
    "\n",
    "for exp_grp, genotype in zip([\"TN1A\", \"vPR13\", \"vMS12-SS3\", \"pIP10\"], [\"TN1A_CsChrimson\", \"vPR13_CsChrimson\", \n",
    "                                                                       \"vMS12-SS3_CsChrimson\", \"CsChrimson; VT40556\"]):\n",
    "    # Get experiment names\n",
    "    exp = metadata.loc[metadata[\"genotype\"] == genotype, :]\n",
    "    experiments_mf = exp.loc[exp[\"individuals.1\"] == \"1\", \"filename\"].to_list()\n",
    "\n",
    "    # Get annotations\n",
    "    annotations_mf = dutils.load_annotations_simple(experiments_mf, main_path=main_path)\n",
    "\n",
    "    # Get copulation times and logical list indicating if there was a copulation\n",
    "    copulation = [ True for ann in annotations_mf if sum(ann[\"name\"]==\"start_copulation\") > 0 ]\n",
    "    copulation_times = [ ann.loc[ann[\"name\"]==\"start_copulation\", \"start_seconds\"].values for ann in annotations_mf if sum(ann[\"name\"]==\"start_copulation\") > 0 ]\n",
    "\n",
    "    cop_ratios.append(f\"{sum(copulation)}/{len(experiments_mf)}\")\n",
    "    cop_times.append(np.concatenate(copulation_times) / 60 )    # min"
   ]
  },
  {
   "cell_type": "code",
   "execution_count": 8,
   "metadata": {},
   "outputs": [
    {
     "data": {
      "image/png": "[encoded data removed]",
      "text/plain": [
       "<Figure size 450x250 with 1 Axes>"
      ]
     },
     "metadata": {
      "needs_background": "light"
     },
     "output_type": "display_data"
    }
   ],
   "source": [
    "# Set up a new figure\n",
    "fig, ax = plt.subplots(1, 1, figsize=(4.5,2.5))\n",
    "\n",
    "# Plot the times until copulation\n",
    "myplt.boxplot_dp(cop_times, labels=[\"TN1A\", \"vPR13\", \"vMS12-\\nSS3\", \"pIP10\"], boxcolor=[\"royalblue\", \"forestgreen\", \"gold\", \"deepskyblue\"],\n",
    "                 markeralpha=0.7, markercolor=\"darkgreen\", markersize=4, ax=ax)\n",
    "\n",
    "# Add text for the copulation ratios\n",
    "ax.text(0, 38, \"Copulation\\nratio\", ha=\"center\", va=\"center\", fontsize=12)\n",
    "for i in range(0,4):\n",
    "    ax.text(i+1, 38, cop_ratios[i], ha=\"center\", va=\"center\", fontsize=12)\n",
    "# Label y axis\n",
    "ax.set_ylabel(\"Time to copulation\\n[min]\")\n",
    "\n",
    "# Remove x axis\n",
    "ax.spines[\"bottom\"].set_visible(False)\n",
    "ax.tick_params(axis=\"x\", length=0, labelsize=12)\n",
    "\n",
    "fig.savefig(\"../figures_wip/time_to_copulation.pdf\")"
   ]
  }
 ],
 "metadata": {
  "kernelspec": {
   "display_name": "datanalysis",
   "language": "python",
   "name": "python3"
  },
  "language_info": {
   "codemirror_mode": {
    "name": "ipython",
    "version": 3
   },
   "file_extension": ".py",
   "mimetype": "text/x-python",
   "name": "python",
   "nbconvert_exporter": "python",
   "pygments_lexer": "ipython3",
   "version": "3.12.3"
  }
 },
 "nbformat": 4,
 "nbformat_minor": 2
}
